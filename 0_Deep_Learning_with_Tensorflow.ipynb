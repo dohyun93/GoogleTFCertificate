{
  "nbformat": 4,
  "nbformat_minor": 0,
  "metadata": {
    "colab": {
      "provenance": [],
      "authorship_tag": "ABX9TyNFPkXSRW8c+KDNNs7SPVyh",
      "include_colab_link": true
    },
    "kernelspec": {
      "name": "python3",
      "display_name": "Python 3"
    },
    "language_info": {
      "name": "python"
    }
  },
  "cells": [
    {
      "cell_type": "markdown",
      "metadata": {
        "id": "view-in-github",
        "colab_type": "text"
      },
      "source": [
        "<a href=\"https://colab.research.google.com/github/dohyun93/GoogleTFCertificate/blob/main/0_Deep_Learning_with_Tensorflow.ipynb\" target=\"_parent\"><img src=\"https://colab.research.google.com/assets/colab-badge.svg\" alt=\"Open In Colab\"/></a>"
      ]
    },
    {
      "cell_type": "markdown",
      "source": [
        "# What is Deep Learning?\n",
        "\n",
        "딥 러닝은 데이터를 숫자로 변환하고, 이 숫자에서 패턴을 찾아내는 것이다.\n",
        "입력과 규칙이 주어지면 결과를 만들어내는 기존 프로그래밍은\n",
        "입력과 이상적인 결과를 주어졌을 때 그 결과를 만들어내는 규칙을 학습하는 딥 러닝과 다르다.\n",
        "\n",
        "# Why use Deep learning?"
      ],
      "metadata": {
        "id": "RvKoxIzAGf1u"
      }
    },
    {
      "cell_type": "code",
      "execution_count": null,
      "metadata": {
        "id": "W_oxtyrcBVg_"
      },
      "outputs": [],
      "source": []
    }
  ]
}