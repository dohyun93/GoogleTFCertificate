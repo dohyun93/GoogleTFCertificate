{
  "nbformat": 4,
  "nbformat_minor": 0,
  "metadata": {
    "colab": {
      "provenance": [],
      "collapsed_sections": [],
      "authorship_tag": "ABX9TyMp3IxbQhdHeZKht/l0O/nw",
      "include_colab_link": true
    },
    "kernelspec": {
      "name": "python3",
      "display_name": "Python 3"
    },
    "language_info": {
      "name": "python"
    }
  },
  "cells": [
    {
      "cell_type": "markdown",
      "metadata": {
        "id": "view-in-github",
        "colab_type": "text"
      },
      "source": [
        "<a href=\"https://colab.research.google.com/github/dohyun93/GoogleTFCertificate/blob/main/0_Deep_Learning_with_Tensorflow.ipynb\" target=\"_parent\"><img src=\"https://colab.research.google.com/assets/colab-badge.svg\" alt=\"Open In Colab\"/></a>"
      ]
    },
    {
      "cell_type": "markdown",
      "source": [
        "# What is Deep Learning?\n",
        "\n",
        "딥 러닝은 데이터를 숫자로 변환하고, 이 숫자에서 패턴을 찾아내는 것이다.\n",
        "입력과 규칙이 주어지면 결과를 만들어내는 기존 프로그래밍은\n",
        "입력과 이상적인 결과를 주어졌을 때 그 결과를 만들어내는 규칙을 학습한\n",
        "\n",
        "# Why use Deep learning?\n",
        "\"매우 복잡한 규칙\"은 프로그래밍 하기 매우 어렵다.\n",
        "딥러닝 모델은 이런 복잡한 규칙을 학습할 수 있다.\n",
        "\n",
        "딥러닝이 적용되면 좋은 분야.\n",
        "1. Rule 들이 매우 많은 문제\n",
        "2. 지속적으로 변화하는 환경에 놓인 문제\n",
        "3. 대량의 데이터에서 통찰을 얻어야 하는 문제\n",
        "\n",
        "# 머신러닝 Vs 딥러닝\n",
        "머신러닝은 정형 데이터의 학습(csv)에 특화되어 있고, 딥러닝은 음성, 텍스트, 이미지 같은 비정형 데이터의 학습에 특화되어 있다."
      ],
      "metadata": {
        "id": "RvKoxIzAGf1u"
      }
    },
    {
      "cell_type": "code",
      "execution_count": null,
      "metadata": {
        "id": "W_oxtyrcBVg_"
      },
      "outputs": [],
      "source": []
    }
  ]
}