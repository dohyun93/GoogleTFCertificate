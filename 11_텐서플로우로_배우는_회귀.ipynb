{
  "nbformat": 4,
  "nbformat_minor": 0,
  "metadata": {
    "colab": {
      "provenance": [],
      "collapsed_sections": [],
      "authorship_tag": "ABX9TyOQPpkAsyq3by+VU4RSJRqg",
      "include_colab_link": true
    },
    "kernelspec": {
      "name": "python3",
      "display_name": "Python 3"
    },
    "language_info": {
      "name": "python"
    }
  },
  "cells": [
    {
      "cell_type": "markdown",
      "metadata": {
        "id": "view-in-github",
        "colab_type": "text"
      },
      "source": [
        "<a href=\"https://colab.research.google.com/github/dohyun93/GoogleTFCertificate/blob/main/11_%ED%85%90%EC%84%9C%ED%94%8C%EB%A1%9C%EC%9A%B0%EB%A1%9C_%EB%B0%B0%EC%9A%B0%EB%8A%94_%ED%9A%8C%EA%B7%80.ipynb\" target=\"_parent\"><img src=\"https://colab.research.google.com/assets/colab-badge.svg\" alt=\"Open In Colab\"/></a>"
      ]
    },
    {
      "cell_type": "markdown",
      "source": [
        "# 38. Tensorflow 로 배우는 회귀\n",
        "\n",
        "> Q1. 회귀문제란 무엇일까? -> 특정 ```값``` 을 예측하는 문제다.\n",
        "\n",
        "> 예1. 주가가 어떻게 될까?\n",
        "\n",
        "> 예2. 이미지 디텍션에서 물체를 잡기위한 바운딩 박스의 좌상단 좌표가 몇이 되어야 할까?\n",
        "\n",
        "2챕터에서는 다음을 배운다.\n",
        "\n",
        "1. 회귀모델을 인공신경망으로 만든다.\n",
        "2. 회귀모델의 형태 (입력과 출력의 형태)\n",
        "3. 커스텀 데이터의 확인과 훈련\n",
        "4. 모델을 만드는 순서를 학습한다. (모델 생성, 모델 컴파일, 훈련, 평가)\n",
        "5. 다양한 평가 방법들\n",
        "6. 모델을 저장하고 불러오기."
      ],
      "metadata": {
        "id": "0nRJqiiaqVNj"
      }
    },
    {
      "cell_type": "markdown",
      "source": [
        "# 39. 인공신경망 회귀모델의 입력과 출력\n"
      ],
      "metadata": {
        "id": "BGokV-OAxrYE"
      }
    },
    {
      "cell_type": "code",
      "source": [
        "# 입력은 반드시 숫자화 되어야 한다.\n",
        "# 예를 들어 방 3개 화장실 2개인 집의 집값을 회귀한다고 해보자.\n",
        "# 방 3개, 화장실 2개라는 특성은 모델에 넣을 수 없기 때문에, 이를 숫자화 해서 입력해야 한다.\n",
        "\n",
        "# 이를 '입력 특성'이라고 한다. input features.\n",
        "\n",
        "# 1. input 의 숫자화 : Numerical encoding\n",
        "# 2. Output의 결과 : Predicted output\n",
        "\n",
        "# 이러한 input, output 의 shape 도 고려해야 한다."
      ],
      "metadata": {
        "id": "GlMUJuakrH2F"
      },
      "execution_count": null,
      "outputs": []
    }
  ]
}