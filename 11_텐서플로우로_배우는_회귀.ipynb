{
  "nbformat": 4,
  "nbformat_minor": 0,
  "metadata": {
    "colab": {
      "provenance": [],
      "collapsed_sections": [],
      "authorship_tag": "ABX9TyNV8qFMGTC2rZlZUdVRua5G",
      "include_colab_link": true
    },
    "kernelspec": {
      "name": "python3",
      "display_name": "Python 3"
    },
    "language_info": {
      "name": "python"
    }
  },
  "cells": [
    {
      "cell_type": "markdown",
      "metadata": {
        "id": "view-in-github",
        "colab_type": "text"
      },
      "source": [
        "<a href=\"https://colab.research.google.com/github/dohyun93/GoogleTFCertificate/blob/main/11_%ED%85%90%EC%84%9C%ED%94%8C%EB%A1%9C%EC%9A%B0%EB%A1%9C_%EB%B0%B0%EC%9A%B0%EB%8A%94_%ED%9A%8C%EA%B7%80.ipynb\" target=\"_parent\"><img src=\"https://colab.research.google.com/assets/colab-badge.svg\" alt=\"Open In Colab\"/></a>"
      ]
    },
    {
      "cell_type": "markdown",
      "source": [
        "# 38. Tensorflow 로 배우는 회귀\n",
        "\n",
        "> Q1. 회귀문제란 무엇일까? -> 특정 ```값``` 을 예측하는 문제다.\n",
        "\n",
        "> 예1. 주가가 어떻게 될까?\n",
        "\n",
        "> 예2. 이미지 디텍션에서 물체를 잡기위한 바운딩 박스의 좌상단 좌표가 몇이 되어야 할까?\n",
        "\n",
        "2챕터에서는 다음을 배운다.\n",
        "\n",
        "1. 회귀모델을 인공신경망으로 만든다.\n",
        "2. 회귀모델의 형태 (입력과 출력의 형태)\n",
        "3. 커스텀 데이터의 확인과 훈련\n",
        "4. 모델을 만드는 순서를 학습한다. (모델 생성, 모델 컴파일, 훈련, 평가)\n",
        "5. 다양한 평가 방법들\n",
        "6. 모델을 저장하고 불러오기."
      ],
      "metadata": {
        "id": "0nRJqiiaqVNj"
      }
    },
    {
      "cell_type": "markdown",
      "source": [
        "# 39. 인공신경망 회귀모델의 입력과 출력\n"
      ],
      "metadata": {
        "id": "BGokV-OAxrYE"
      }
    },
    {
      "cell_type": "code",
      "source": [],
      "metadata": {
        "id": "GlMUJuakrH2F"
      },
      "execution_count": null,
      "outputs": []
    },
    {
      "cell_type": "code",
      "execution_count": null,
      "metadata": {
        "id": "4QkGmjhYpmr4"
      },
      "outputs": [],
      "source": [
        "import tensorflow as tf\n",
        "myTensor = tf.constant([1, 2])"
      ]
    }
  ]
}