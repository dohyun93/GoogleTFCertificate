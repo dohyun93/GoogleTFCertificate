{
  "nbformat": 4,
  "nbformat_minor": 0,
  "metadata": {
    "colab": {
      "provenance": [],
      "collapsed_sections": [],
      "authorship_tag": "ABX9TyNUqvgXqmpjzw15llv0G+Yx",
      "include_colab_link": true
    },
    "kernelspec": {
      "name": "python3",
      "display_name": "Python 3"
    },
    "language_info": {
      "name": "python"
    }
  },
  "cells": [
    {
      "cell_type": "markdown",
      "metadata": {
        "id": "view-in-github",
        "colab_type": "text"
      },
      "source": [
        "<a href=\"https://colab.research.google.com/github/dohyun93/GoogleTFCertificate/blob/main/0_Deep_Learning_with_Tensorflow_Fundamentals.ipynb\" target=\"_parent\"><img src=\"https://colab.research.google.com/assets/colab-badge.svg\" alt=\"Open In Colab\"/></a>"
      ]
    },
    {
      "cell_type": "markdown",
      "source": [
        "# What is Deep Learning?\n",
        "\n",
        "딥 러닝은 데이터를 숫자로 변환하고, 이 숫자에서 패턴을 찾아내는 것이다.\n",
        "입력과 규칙이 주어지면 결과를 만들어내는 기존 프로그래밍은\n",
        "입력과 이상적인 결과를 주어졌을 때 그 결과를 만들어내는 규칙을 학습한\n",
        "\n",
        "# Why use Deep learning?\n",
        "\"매우 복잡한 규칙\"은 프로그래밍 하기 매우 어렵다.\n",
        "딥러닝 모델은 이런 복잡한 규칙을 학습할 수 있다.\n",
        "\n",
        "딥러닝이 적용되면 좋은 분야.\n",
        "1. Rule 들이 매우 많은 문제\n",
        "2. 지속적으로 변화하는 환경에 놓인 문제\n",
        "3. 대량의 데이터에서 통찰을 얻어야 하는 문제\n",
        "\n",
        "# 머신러닝 Vs 딥러닝\n",
        "머신러닝은 정형 데이터의 학습(csv)에 특화되어 있고, 딥러닝은 음성, 텍스트, 이미지 같은 비정형 데이터의 학습에 특화되어 있다."
      ],
      "metadata": {
        "id": "RvKoxIzAGf1u"
      }
    },
    {
      "cell_type": "markdown",
      "source": [
        "#뉴럴 네트워크란 무엇일까?\n",
        "\n",
        "뉴럴 네트워크는 뉴런으로 구성된 네트워크 이다.\n",
        "\n",
        "1. (입력) 그림, 텍스트, 음성 을 수치화 한다. (Numerical encoding) -> Tensor라는 형태로 변환.\n",
        "2. (과정) 인공신경망(뉴럴네트워크)으로 Weights/Features/Pattern/Representation 학습\n",
        "3. (출력) 학습한 Representation 으로 입력에 대해 사람이 이해할 수 있는 high-level의 결과물 변환.\n",
        "\n",
        "인공신경망은 크게 아래 세 가지 층으로 구성된다.\n",
        "(1) Input layer : 데이터가 여기로 들어간다. (뉴런=유닛)\n",
        "(2) Hidden layer : 데이터로부터 패턴을 학습하는 층\n",
        "(3) Output layer : 학습된 representation 을 반환하거나, 확률 예측, 회귀 예측값을 리턴한다.\n",
        "\n",
        "학습의 대상인 패턴/representation/weights 등은 다른 언어로도 표현될 수 있다.\n",
        "\n",
        "# 학습의 종류\n",
        "\n",
        "Supervised learning : 라벨이 되어있는 데이터들만 있을 때 학습\n",
        "\n",
        "Semi-supervised learning : 일부만 라벨이 있는 데이터에 대한 학습\n",
        "\n",
        "Unsupervised learning : 비지도 학습으로, 라벨이 없는 데이터에 대한 학습\n",
        "\n",
        "Transfer learning : pattern 을 학습 한 후, 그 학습한 결과를 활용해서 다른 문제에 적용하는 학습.\n",
        "\n",
        "이 강좌에서는 supervised learning, transfer learning 에 대해 주로 학습한다.\n"
      ],
      "metadata": {
        "id": "z7GO7xmfENhB"
      }
    },
    {
      "cell_type": "markdown",
      "source": [
        "# 딥러닝이 이미 사용되고 있는 건 뭐가있을까?\n",
        "\n",
        "딥러닝을 적용할 수 있는 분야는 숫자로 변환시킬 수 있는 것이면 모두 다 해당된다.\n",
        "\n",
        "딥러닝의 유스케이스 몇 개.\n",
        "1. 추천\n",
        "2. 번역 (Seq2seq. 영어를 스페인어로 번역)\n",
        "3. 음성인식 (seq2seq. 음성 데이터 (시퀀스)를 어떤 문장인지 분석.)\n",
        "4. 컴퓨터비전 (classification/regression. 이 사진은 차다.)\n",
        "5. 자연어처리 (classification/regression. 이 메일은 스팸메일일 확률이 몇이다.)\n",
        "\n",
        "다시 한 번 강조하지만, 딥 러닝이 적용될 수 있는 분야는 수치로 변환 가능한 모든 문제들이다."
      ],
      "metadata": {
        "id": "avoNTY-uGgGN"
      }
    },
    {
      "cell_type": "markdown",
      "source": [
        "# 텐서플로우란 무엇이며, 왜 사용하는가?\n",
        "\n",
        "딥 러닝 모델 = 딥 러닝 아키텍처\n",
        "\n",
        "\n",
        "텐서플로우란? 텐서플로우는 이런 딥 러닝 모델을 개발하는데 사용하는 E2E 머신러닝 플랫폼이다.\n",
        "\n",
        "텐서플로우를 이용해서 GPU/TPU 상에서 동작하는 파이썬같은 언어로 빠르게 딥 러닝 코드를 개발할 수 있다.\n",
        "\n",
        "먼저 빌드된 딥 러닝 모델들을 사용할 수 있다.\n",
        "\n",
        "데이터 전처리부터 데이터 모델링, 어플리케이션에 모델 배포까지 다 할 수 있다.\n",
        "\n",
        "원래 구글 인하우스를 위해 설계되고 개발되었으나 오픈소스화 되었다.\n",
        "\n",
        "\n",
        "* 왜 텐서플로우인가?\n",
        "\n",
        "1. 모델 빌딩이 쉽다.\n",
        "2. 신뢰성있는 ML 개발된 것이 많다.\n",
        "3. 연구를 위해 다양한 간단하고 유연한 구조를 개발해볼 수 있다.\n",
        "\n",
        "코랩, 케라스, 텐서플로우 같은게 있으면 단 하루만에 아무 투자없이 2014년 기준 한 개 팀이 2천만원 짜리 장비로 3달 걸려 해결할 문제를 풀 수 있다.\n",
        "\n",
        "* GPU, TPU 란 무엇인가?\n",
        "\n",
        "GPU : Graphics processing Unit\n",
        "\n",
        "TPU : Tensor Processing Unit\n",
        "\n",
        "\n",
        "\n"
      ],
      "metadata": {
        "id": "0aimd34UMIeh"
      }
    },
    {
      "cell_type": "markdown",
      "source": [
        "# 텐서란 무엇인가?\n",
        "\n",
        "* 입력과 출력으로 수치화 했던 행렬이 바로 텐서이다. 수치화 되는 대상 모두 텐서라고 봐도 무방하다.\n",
        "\n",
        "* 딥 러닝에서 데이터, 학습된 가중치 등 모두 수치화하는데, 이를 텐서라고 부른다.\n"
      ],
      "metadata": {
        "id": "_0vt11r2QzkJ"
      }
    },
    {
      "cell_type": "markdown",
      "source": [
        "# 이 강좌를 통해 우리는 무엇을 다룰것인가?\n",
        "\n",
        "* 텐서플로우 기초\n",
        "\n",
        "* 데이터 전처리 (텐서로의 변환)\n",
        "\n",
        "* 먼저 학습된 딥러닝 모델을 빌드하고 사용하기\n",
        "\n",
        "* 데이터를 모델에 넣고 학습시키기 (패턴학습)\n",
        "\n",
        "* 모델로 예측하기 (패턴사용)\n",
        "\n",
        "* 모델 예측결과 평가\n",
        "\n",
        "* 모델 저장과 로딩\n",
        "\n",
        "* 모델입장에서 처음보는 커스텀 데이터를 활용해 학습된 모델에 넣고 예측해보기\n",
        "\n",
        "1. 데이터를 텐서로 변환\n",
        "2. pretrained 모델을 빌드하거나 선택한다.\n",
        "3. 데이터로 모델 학습하고 예측을 만든다.\n",
        "4. 모델을 평가한다.\n",
        "5. 실험을 통해 모델을 개선한다.\n",
        "6. 모델을 저장하고 다시 불러온다."
      ],
      "metadata": {
        "id": "VOZVF0qyRvuO"
      }
    },
    {
      "cell_type": "markdown",
      "source": [
        "# 이 강좌를 어떻게 활용할 것인가?\n",
        "\n",
        "1. 많은 코드를 직접 작성해라. 실수도 따라해라. \n",
        "\n",
        "> 모토 #1. 잘 모르겠으면, 일단 코드 실행시켜라\n",
        "\n",
        "2. 탐험하고, 실험해라.\n",
        "\n",
        "> 모토 #2. 실험하라 x 3\n",
        "\n",
        "> 모토 #3. 시각화 해라 X 3 (내가 이해할 수 있는 방법으로 재구성 해라)\n",
        "\n",
        "3. 질문해라. (멍청한 질문이라도)\n",
        "\n",
        "4. 솔루션을 보기 전에 직접 코드를 짜보는 연습을 해보라.\n",
        "\n",
        "> 모토 #4. 이 코스는 모든걸 커버하지 않기 때문에, 좀 더 공부하고 싶다면 따로 보자.\n",
        "\n",
        "5. 한 것을 공유하자. 타인에게 내가 개발한 것을 설명하라."
      ],
      "metadata": {
        "id": "WyAM4C1CSwyC"
      }
    },
    {
      "cell_type": "code",
      "source": [
        "# 15. tf.constant() 로 첫 텐서 만들어보기.\n",
        "\n",
        "# 다루는 주제\n",
        "# Tensor 에 대한 소개\n",
        "# 텐서로부터 정보 읽기\n",
        "# 텐서 조작하기\n",
        "# 텐서와 넘파이\n",
        "# tf.function 사용해서 파이썬 함수보다 더 빠르게 처리하기.\n",
        "# 텐서플로우로 GPU 사용하기.\n",
        "\n",
        "import tensorflow as tf\n",
        "\n",
        "print(tf.__version__)\n"
      ],
      "metadata": {
        "colab": {
          "base_uri": "https://localhost:8080/"
        },
        "id": "C67ghckTUW_U",
        "outputId": "86391649-3e45-4f03-8c34-1f9774362a08"
      },
      "execution_count": 2,
      "outputs": [
        {
          "output_type": "stream",
          "name": "stdout",
          "text": [
            "2.8.2\n"
          ]
        }
      ]
    },
    {
      "cell_type": "code",
      "source": [
        "# Create tensors with tf.constant()\n",
        "\n",
        "scalar = tf.constant(7)\n",
        "\n",
        "print(scalar)\n",
        "\n",
        "# check the number of dimensions of a tensor (ndim stands for number of dimensions)\n",
        "scalar.ndim "
      ],
      "metadata": {
        "colab": {
          "base_uri": "https://localhost:8080/"
        },
        "id": "Rc6I5Q5lXQ_k",
        "outputId": "5f870cb8-317e-4808-beb8-537030eef2bd"
      },
      "execution_count": 3,
      "outputs": [
        {
          "output_type": "stream",
          "name": "stdout",
          "text": [
            "tf.Tensor(7, shape=(), dtype=int32)\n"
          ]
        },
        {
          "output_type": "execute_result",
          "data": {
            "text/plain": [
              "0"
            ]
          },
          "metadata": {},
          "execution_count": 3
        }
      ]
    },
    {
      "cell_type": "code",
      "source": [
        "# Create a vector\n",
        "vector = tf.constant([10, 10])\n",
        "print(vector)\n",
        "print(vector.ndim)\n"
      ],
      "metadata": {
        "colab": {
          "base_uri": "https://localhost:8080/"
        },
        "id": "uXQbAGB6X5hd",
        "outputId": "50370197-4011-4103-cae6-9d9848098f61"
      },
      "execution_count": 4,
      "outputs": [
        {
          "output_type": "stream",
          "name": "stdout",
          "text": [
            "tf.Tensor([10 10], shape=(2,), dtype=int32)\n",
            "1\n"
          ]
        }
      ]
    },
    {
      "cell_type": "code",
      "source": [
        "# Create a matrix\n",
        "matrix = tf.constant([[10, 7], \n",
        "                      [2, 30]])\n",
        "print(matrix)\n",
        "print(matrix.ndim)"
      ],
      "metadata": {
        "colab": {
          "base_uri": "https://localhost:8080/"
        },
        "id": "DjH3kPRkaBtI",
        "outputId": "f876a333-5b92-4d7a-8a83-f969c5bf50b2"
      },
      "execution_count": 5,
      "outputs": [
        {
          "output_type": "stream",
          "name": "stdout",
          "text": [
            "tf.Tensor(\n",
            "[[10  7]\n",
            " [ 2 30]], shape=(2, 2), dtype=int32)\n",
            "2\n"
          ]
        }
      ]
    },
    {
      "cell_type": "code",
      "source": [
        "# Create a matrix for specific datatype.\n",
        "\n",
        "another_matrix = tf.constant([ [10., 30.],\n",
        "                               [3., 2.],\n",
        "                               [8., 9.]], dtype=tf.float16) # Create a tf.float16 type of constant tensor.\n",
        "print(another_matrix)\n",
        "print(another_matrix.ndim)"
      ],
      "metadata": {
        "colab": {
          "base_uri": "https://localhost:8080/"
        },
        "id": "JvKb-iQUaMEy",
        "outputId": "c10d78ce-5dd2-4852-d548-cf3b51a45257"
      },
      "execution_count": 6,
      "outputs": [
        {
          "output_type": "stream",
          "name": "stdout",
          "text": [
            "tf.Tensor(\n",
            "[[10. 30.]\n",
            " [ 3.  2.]\n",
            " [ 8.  9.]], shape=(3, 2), dtype=float16)\n",
            "2\n"
          ]
        }
      ]
    },
    {
      "cell_type": "code",
      "source": [
        "# What's the number of the dimension of the another_matrix?\n",
        "# It is 2.\n",
        "\n",
        "# So, Let's create a tensor.\n",
        "tensor = tf.constant([ [[1, 2, 3],\n",
        "                        [4, 5, 6]],\n",
        "                       [[7, 8, 9],\n",
        "                        [10, 11, 12]],\n",
        "                       [[13, 14, 15],\n",
        "                        [16, 17, 18]]])\n",
        "\n",
        "print(tensor)\n",
        "print(tensor.ndim)\n"
      ],
      "metadata": {
        "colab": {
          "base_uri": "https://localhost:8080/"
        },
        "id": "SoVuw1cwauGv",
        "outputId": "ecfe1c37-c8e0-43a2-bf75-64eaa619a0ce"
      },
      "execution_count": 7,
      "outputs": [
        {
          "output_type": "stream",
          "name": "stdout",
          "text": [
            "tf.Tensor(\n",
            "[[[ 1  2  3]\n",
            "  [ 4  5  6]]\n",
            "\n",
            " [[ 7  8  9]\n",
            "  [10 11 12]]\n",
            "\n",
            " [[13 14 15]\n",
            "  [16 17 18]]], shape=(3, 2, 3), dtype=int32)\n",
            "3\n"
          ]
        }
      ]
    },
    {
      "cell_type": "code",
      "source": [
        "# So, what we've created so far:\n",
        "\n",
        "# 1. scalar 은 한 개의 숫자다. (ndim = 0)\n",
        "# 2. vector 은 방향이 있는 숫자다. (e.g., 바람의 속력과 풍향)\n",
        "# 3. matrix 는 2-dimensional 숫자 배열이다.\n",
        "# 4. tensor 는 n-dimensional 숫자 배열이다. (n 은 어떤 숫자던 가능하며, 0이면 스칼라, 1이면 벡터, 2면 행렬이다.)"
      ],
      "metadata": {
        "id": "tqu9z0PTbqGC"
      },
      "execution_count": 8,
      "outputs": []
    },
    {
      "cell_type": "markdown",
      "source": [
        "# 16. 텐서플로우 tf.Variable() 로 텐서 만들어보기."
      ],
      "metadata": {
        "id": "OZAzoFdOvmyp"
      }
    },
    {
      "cell_type": "code",
      "source": [
        "# tf.Variable() 로 위에서 만든 tf.constant() 와 동일형태의 텐서 만들어보기.\n",
        "\n",
        "variable_tensor = tf.Variable([10, 7])\n",
        "unchangable_tensor = tf.constant([10, 7])\n",
        "\n",
        "print(variable_tensor)\n",
        "print(unchangable_tensor)"
      ],
      "metadata": {
        "colab": {
          "base_uri": "https://localhost:8080/"
        },
        "id": "LJdHeHlQvv4W",
        "outputId": "924d0419-dc0e-4df7-bfd6-8965a1e0ea99"
      },
      "execution_count": 10,
      "outputs": [
        {
          "output_type": "stream",
          "name": "stdout",
          "text": [
            "<tf.Variable 'Variable:0' shape=(2,) dtype=int32, numpy=array([10,  7], dtype=int32)>\n",
            "tf.Tensor([10  7], shape=(2,), dtype=int32)\n"
          ]
        }
      ]
    },
    {
      "cell_type": "code",
      "source": [
        "# 위에서 만든 tf.Variable 의 값 바꿔보자.\n",
        "variable_tensor[0]"
      ],
      "metadata": {
        "colab": {
          "base_uri": "https://localhost:8080/"
        },
        "id": "T0VhDT9JwE0H",
        "outputId": "c80bf335-9122-4ae2-9e4b-01d8c31bc708"
      },
      "execution_count": 11,
      "outputs": [
        {
          "output_type": "execute_result",
          "data": {
            "text/plain": [
              "<tf.Tensor: shape=(), dtype=int32, numpy=10>"
            ]
          },
          "metadata": {},
          "execution_count": 11
        }
      ]
    },
    {
      "cell_type": "code",
      "source": [
        "# variable_tensor[0] = 7 -> 에러 발생.\n",
        "'''\n",
        "---------------------------------------------------------------------------\n",
        "TypeError                                 Traceback (most recent call last)\n",
        "<ipython-input-13-4b641503ad8f> in <module>\n",
        "----> 1 variable_tensor[0] = 7\n",
        "      2 print(varaible_tensor)\n",
        "\n",
        "TypeError: 'ResourceVariable' object does not support item assignment\n",
        "'''\n",
        "\n",
        "# https://www.tensorflow.org/guide/variable?hl=ko\n",
        "# tf.Variable() 텐서 값을 변경하려면, 단순 = 할당 하는게 아니라 내장함수 assign 을 사용해야함.\n",
        "\n",
        "print(variable_tensor) # 마지막에 텐서로 넣은 값이 출력됨.\n",
        "variable_tensor.assign([1, 2])\n",
        "print(variable_tensor) # [1, 2] 로 넣은 값으로 출력됨.\n",
        "variable_tensor[0].assign(7)\n",
        "print(variable_tensor) # 7로 바꾼 값으로 출력됨."
      ],
      "metadata": {
        "colab": {
          "base_uri": "https://localhost:8080/"
        },
        "id": "MmVPoxEKwcNm",
        "outputId": "34131a41-04ff-4cd3-af61-944c20c8e6ba"
      },
      "execution_count": 21,
      "outputs": [
        {
          "output_type": "stream",
          "name": "stdout",
          "text": [
            "<tf.Variable 'Variable:0' shape=(2,) dtype=int32, numpy=array([7, 2], dtype=int32)>\n",
            "<tf.Variable 'Variable:0' shape=(2,) dtype=int32, numpy=array([1, 2], dtype=int32)>\n",
            "<tf.Variable 'Variable:0' shape=(2,) dtype=int32, numpy=array([7, 2], dtype=int32)>\n"
          ]
        }
      ]
    },
    {
      "cell_type": "code",
      "source": [
        "# 그럼 tf.constant() 도 변경해보자.\n",
        "\n",
        "# unchangable_tensor[0].assign(7)\n",
        "# AttributeError: 'tensorflow.python.framework.ops.EagerTensor' object has no attribute 'assign'\n",
        "# print(unchangable_tensor)\n",
        "\n",
        "# tf.Variable 에는 assign 함수가 존재하지만, tf.constant는 상수이므로 이런 함수가 없다."
      ],
      "metadata": {
        "id": "v5Oevs-dD1oz"
      },
      "execution_count": 23,
      "outputs": []
    },
    {
      "cell_type": "markdown",
      "source": [
        "# 17. tensorflow로 랜덤 텐서를 만들어보자.\n",
        "\n",
        "> 랜덤 텐서는 랜덤한 값으로 이루어진 임의의 크기의 텐서이다.\n",
        "\n",
        "> normal vs uniform distribution : Normal Distribution is a probability distribution where probability of x is highest at centre and lowest in the ends whereas in Uniform Distribution probability of x is constant.\n",
        "\n",
        "![image.png](data:image/png;base64,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)"
      ],
      "metadata": {
        "id": "dAB96EaYER0O"
      }
    },
    {
      "cell_type": "code",
      "source": [
        "# 2개의 랜덤한 텐서를 만들어보자.\n",
        "random_1 = tf.random.Generator.from_seed(30) # set seed for reproductibility\n",
        "random_1 = random_1.normal(shape=(3, 2))\n",
        "\n",
        "random_1"
      ],
      "metadata": {
        "colab": {
          "base_uri": "https://localhost:8080/"
        },
        "id": "GqgDUBbTEXv3",
        "outputId": "12264ab2-54c6-41ab-b4cb-82e04cac1da6"
      },
      "execution_count": 28,
      "outputs": [
        {
          "output_type": "execute_result",
          "data": {
            "text/plain": [
              "<tf.Tensor: shape=(3, 2), dtype=float32, numpy=\n",
              "array([[ 0.8357487 ,  0.20849545],\n",
              "       [ 1.4040174 , -2.735283  ],\n",
              "       [ 1.2232229 , -1.8653691 ]], dtype=float32)>"
            ]
          },
          "metadata": {},
          "execution_count": 28
        }
      ]
    },
    {
      "cell_type": "code",
      "source": [
        "random_2 =tf.random.Generator.from_seed(30)\n",
        "random_2 = random_2.normal(shape=(3, 2))\n",
        "random_2"
      ],
      "metadata": {
        "colab": {
          "base_uri": "https://localhost:8080/"
        },
        "id": "g5ls7I-jELGC",
        "outputId": "a6556c8f-777d-482c-844b-4878353298be"
      },
      "execution_count": 30,
      "outputs": [
        {
          "output_type": "execute_result",
          "data": {
            "text/plain": [
              "<tf.Tensor: shape=(3, 2), dtype=float32, numpy=\n",
              "array([[ 0.8357487 ,  0.20849545],\n",
              "       [ 1.4040174 , -2.735283  ],\n",
              "       [ 1.2232229 , -1.8653691 ]], dtype=float32)>"
            ]
          },
          "metadata": {},
          "execution_count": 30
        }
      ]
    },
    {
      "cell_type": "code",
      "source": [
        "# 두 동일 시드로 생성한 정규분포 텐서가 동일할까?\n",
        "random_1, random_2, random_1 == random_2"
      ],
      "metadata": {
        "colab": {
          "base_uri": "https://localhost:8080/"
        },
        "id": "tJWtlUi5HlYP",
        "outputId": "55789099-2824-4800-fd1a-1d25144d2ab4"
      },
      "execution_count": 31,
      "outputs": [
        {
          "output_type": "execute_result",
          "data": {
            "text/plain": [
              "(<tf.Tensor: shape=(3, 2), dtype=float32, numpy=\n",
              " array([[ 0.8357487 ,  0.20849545],\n",
              "        [ 1.4040174 , -2.735283  ],\n",
              "        [ 1.2232229 , -1.8653691 ]], dtype=float32)>,\n",
              " <tf.Tensor: shape=(3, 2), dtype=float32, numpy=\n",
              " array([[ 0.8357487 ,  0.20849545],\n",
              "        [ 1.4040174 , -2.735283  ],\n",
              "        [ 1.2232229 , -1.8653691 ]], dtype=float32)>,\n",
              " <tf.Tensor: shape=(3, 2), dtype=bool, numpy=\n",
              " array([[ True,  True],\n",
              "        [ True,  True],\n",
              "        [ True,  True]])>)"
            ]
          },
          "metadata": {},
          "execution_count": 31
        }
      ]
    },
    {
      "cell_type": "markdown",
      "source": [
        "# 18. 텐서의 원소 순서 바꾸기 (Shuffle)\n",
        "\n",
        "> 왜 텐서의 원소 순서를 셔플할까?\n",
        "\n",
        "> 만약 훈련세트의 첫 1000장이 라면이고 그 다음 5000장이 자장면 이라면, 이 순서대로 입력을 했을 때 뉴럴네트워크의 가중치 학습이 잘 되지 않을 수 있다.\n",
        "\n",
        "> 따라서, 이런 경우를 방지하기 위해 텐서의 원소들을 랜덤하게 섞는 shuffle 과정이 필요하다."
      ],
      "metadata": {
        "id": "RmriSYiLIJp4"
      }
    },
    {
      "cell_type": "code",
      "source": [
        "# Shuffle a tensor (valuable for when you want to shuffle your data so the inherent order doesn't affect learning)\n",
        "\n",
        "not_shuffled = tf.constant([[10, 7], \n",
        "                            [3, 4],\n",
        "                            [2, 5]])\n",
        "not_shuffled.ndim"
      ],
      "metadata": {
        "colab": {
          "base_uri": "https://localhost:8080/"
        },
        "id": "jK94haMlHwdD",
        "outputId": "56b3954b-fbb0-4e63-8f89-152845e4ec6b"
      },
      "execution_count": 32,
      "outputs": [
        {
          "output_type": "execute_result",
          "data": {
            "text/plain": [
              "2"
            ]
          },
          "metadata": {},
          "execution_count": 32
        }
      ]
    },
    {
      "cell_type": "code",
      "source": [
        "not_shuffled"
      ],
      "metadata": {
        "colab": {
          "base_uri": "https://localhost:8080/"
        },
        "id": "NrZvHkJqOF77",
        "outputId": "56195d80-83d2-4346-de88-e2b9b8135a55"
      },
      "execution_count": 33,
      "outputs": [
        {
          "output_type": "execute_result",
          "data": {
            "text/plain": [
              "<tf.Tensor: shape=(3, 2), dtype=int32, numpy=\n",
              "array([[10,  7],\n",
              "       [ 3,  4],\n",
              "       [ 2,  5]], dtype=int32)>"
            ]
          },
          "metadata": {},
          "execution_count": 33
        }
      ]
    },
    {
      "cell_type": "code",
      "source": [
        "# shuffle our non_shuffled tensor.\n",
        "\n",
        "tf.random.shuffle(not_shuffled)"
      ],
      "metadata": {
        "colab": {
          "base_uri": "https://localhost:8080/"
        },
        "id": "NglS_Ql-OHi7",
        "outputId": "35291da3-af0a-41fe-e42e-0fefa14f0c5f"
      },
      "execution_count": 34,
      "outputs": [
        {
          "output_type": "execute_result",
          "data": {
            "text/plain": [
              "<tf.Tensor: shape=(3, 2), dtype=int32, numpy=\n",
              "array([[ 2,  5],\n",
              "       [10,  7],\n",
              "       [ 3,  4]], dtype=int32)>"
            ]
          },
          "metadata": {},
          "execution_count": 34
        }
      ]
    },
    {
      "cell_type": "code",
      "source": [
        "# 1st dimension 인 (3, 2) 에서 3에 해당하는 행에 대해 셔플을 한다.\n",
        "# 또 셔플하면 어떻게될까?\n",
        "\n",
        "tf.random.shuffle(not_shuffled)\n",
        "\n",
        "# 또 변했다."
      ],
      "metadata": {
        "colab": {
          "base_uri": "https://localhost:8080/"
        },
        "id": "Tq0OCviOOf1Q",
        "outputId": "91319cd8-bd50-43ae-ad99-e1de0ea6baa7"
      },
      "execution_count": 35,
      "outputs": [
        {
          "output_type": "execute_result",
          "data": {
            "text/plain": [
              "<tf.Tensor: shape=(3, 2), dtype=int32, numpy=\n",
              "array([[ 3,  4],\n",
              "       [ 2,  5],\n",
              "       [10,  7]], dtype=int32)>"
            ]
          },
          "metadata": {},
          "execution_count": 35
        }
      ]
    },
    {
      "cell_type": "code",
      "source": [
        "# seed 주고 바꿔보자. -> 셔플결과 계속 동일한 순서로 나오는걸 알 수 있다.\n",
        "# tf.random.set_seed(30) # global random seed.\n",
        "tf.random.shuffle(not_shuffled, seed=30) # operation-level seed."
      ],
      "metadata": {
        "colab": {
          "base_uri": "https://localhost:8080/"
        },
        "id": "HGTRNkYOO6d2",
        "outputId": "22cc32a4-d32f-4ced-b078-3676250a7ad7"
      },
      "execution_count": 57,
      "outputs": [
        {
          "output_type": "execute_result",
          "data": {
            "text/plain": [
              "<tf.Tensor: shape=(3, 2), dtype=int32, numpy=\n",
              "array([[ 3,  4],\n",
              "       [10,  7],\n",
              "       [ 2,  5]], dtype=int32)>"
            ]
          },
          "metadata": {},
          "execution_count": 57
        }
      ]
    },
    {
      "cell_type": "markdown",
      "source": [
        "⛳ Exercise: https://www.tensorflow.org/versions/r2.3/api_docs/python/tf/random/set_seed?hl=ko : **Create 5 random tensor with the two kinds of seed** \n",
        "\n",
        "> tf.random.set_seed 에서 1) global-level seed and 2) operation-level seed\n",
        "\n",
        "> Rule 4: \"If both the global and the operation seed are set: Both seeds are used in conjunction to determine the random sequence.\" -> 둘 다 설정될 경우, 둘 다 연결되어 랜덤 값 생성에 사용된다."
      ],
      "metadata": {
        "id": "Ob7nn0xhPaln"
      }
    },
    {
      "cell_type": "code",
      "source": [
        "# tf.random.set_seed(??) -> 실행할 때 마다가 랜덤텐서가 만들어지지 않고 계속 동일.\n",
        "# tf.random.shuffle(tensor, seed=??) -> 실행할 때 마다 변화하는 랜덤 텐서 확인가능.\n",
        "\n",
        "tf.random.set_seed(10)\n",
        "tf.random.shuffle(not_shuffled, seed=10)\n",
        "not_shuffled"
      ],
      "metadata": {
        "colab": {
          "base_uri": "https://localhost:8080/"
        },
        "id": "H2PHXm3XQJXB",
        "outputId": "1ce12e68-702f-4fc1-ecee-bf6a6248f15a"
      },
      "execution_count": 72,
      "outputs": [
        {
          "output_type": "execute_result",
          "data": {
            "text/plain": [
              "<tf.Tensor: shape=(3, 2), dtype=int32, numpy=\n",
              "array([[10,  7],\n",
              "       [ 3,  4],\n",
              "       [ 2,  5]], dtype=int32)>"
            ]
          },
          "metadata": {},
          "execution_count": 72
        }
      ]
    },
    {
      "cell_type": "markdown",
      "source": [
        "# 19. Numpy 배열로 텐서 만들기"
      ],
      "metadata": {
        "id": "yuehRAnePoSn"
      }
    },
    {
      "cell_type": "code",
      "source": [
        "import numpy as np\n",
        "\n",
        "# numpy.ones\n",
        "# 비슷하게 tf.ones 로 만들 수 있다.\n",
        "tf.ones(shape=(10, 7))\n"
      ],
      "metadata": {
        "colab": {
          "base_uri": "https://localhost:8080/"
        },
        "id": "Z0RLu2YNPLK9",
        "outputId": "7168444a-0122-4646-99f3-31f707724680"
      },
      "execution_count": 75,
      "outputs": [
        {
          "output_type": "execute_result",
          "data": {
            "text/plain": [
              "<tf.Tensor: shape=(10, 7), dtype=float32, numpy=\n",
              "array([[1., 1., 1., 1., 1., 1., 1.],\n",
              "       [1., 1., 1., 1., 1., 1., 1.],\n",
              "       [1., 1., 1., 1., 1., 1., 1.],\n",
              "       [1., 1., 1., 1., 1., 1., 1.],\n",
              "       [1., 1., 1., 1., 1., 1., 1.],\n",
              "       [1., 1., 1., 1., 1., 1., 1.],\n",
              "       [1., 1., 1., 1., 1., 1., 1.],\n",
              "       [1., 1., 1., 1., 1., 1., 1.],\n",
              "       [1., 1., 1., 1., 1., 1., 1.],\n",
              "       [1., 1., 1., 1., 1., 1., 1.]], dtype=float32)>"
            ]
          },
          "metadata": {},
          "execution_count": 75
        }
      ]
    },
    {
      "cell_type": "code",
      "source": [
        "# Create a tensor of all zeroes\n",
        "tf.zeros(shape=(10, 7))"
      ],
      "metadata": {
        "colab": {
          "base_uri": "https://localhost:8080/"
        },
        "id": "nwxkZScfRqfs",
        "outputId": "ca965038-be49-4736-96c8-375f3df19986"
      },
      "execution_count": 74,
      "outputs": [
        {
          "output_type": "execute_result",
          "data": {
            "text/plain": [
              "<tf.Tensor: shape=(10, 7), dtype=float32, numpy=\n",
              "array([[0., 0., 0., 0., 0., 0., 0.],\n",
              "       [0., 0., 0., 0., 0., 0., 0.],\n",
              "       [0., 0., 0., 0., 0., 0., 0.],\n",
              "       [0., 0., 0., 0., 0., 0., 0.],\n",
              "       [0., 0., 0., 0., 0., 0., 0.],\n",
              "       [0., 0., 0., 0., 0., 0., 0.],\n",
              "       [0., 0., 0., 0., 0., 0., 0.],\n",
              "       [0., 0., 0., 0., 0., 0., 0.],\n",
              "       [0., 0., 0., 0., 0., 0., 0.],\n",
              "       [0., 0., 0., 0., 0., 0., 0.]], dtype=float32)>"
            ]
          },
          "metadata": {},
          "execution_count": 74
        }
      ]
    },
    {
      "cell_type": "code",
      "source": [
        "# You can also turn NUMPY ARR into TENSOR"
      ],
      "metadata": {
        "id": "BJQnWj2OR0C5"
      },
      "execution_count": null,
      "outputs": []
    },
    {
      "cell_type": "markdown",
      "source": [
        "### Numpy 배열을 텐서로 변환하기.\n",
        "\n",
        "> Numpy 배열과 텐서의 차이는 텐서는 GPU 연산이 가능하다는 것이다."
      ],
      "metadata": {
        "id": "Nj7T5HgKR7tf"
      }
    },
    {
      "cell_type": "code",
      "source": [
        "# 넘파이 배열을 만들어보고, 이를 텐서로 바꿔보자.\n",
        "numpy_A = np.arange(1, 25, dtype=np.int32)\n",
        "numpy_A\n",
        "# X = tf.constant(some_matrix) # capital for matrix or tensor\n",
        "# y = tf.constant(vector) # non-capital for vector"
      ],
      "metadata": {
        "colab": {
          "base_uri": "https://localhost:8080/"
        },
        "id": "PxmGh49RSGXr",
        "outputId": "8b2b7915-663c-4946-ebc3-ba495f77e5ee"
      },
      "execution_count": 80,
      "outputs": [
        {
          "output_type": "execute_result",
          "data": {
            "text/plain": [
              "array([ 1,  2,  3,  4,  5,  6,  7,  8,  9, 10, 11, 12, 13, 14, 15, 16, 17,\n",
              "       18, 19, 20, 21, 22, 23, 24], dtype=int32)"
            ]
          },
          "metadata": {},
          "execution_count": 80
        }
      ]
    },
    {
      "cell_type": "code",
      "source": [
        "# tf.constant 인자로 넘파이 배열을 넘겨서 텐서를 만들 수 있다.\n",
        "tensor_A = tf.constant(numpy_A)\n",
        "tensor_A"
      ],
      "metadata": {
        "colab": {
          "base_uri": "https://localhost:8080/"
        },
        "id": "A-oBqEhJSUrq",
        "outputId": "0e67d957-92cd-4b36-a01a-193b6aaa968d"
      },
      "execution_count": 82,
      "outputs": [
        {
          "output_type": "execute_result",
          "data": {
            "text/plain": [
              "<tf.Tensor: shape=(24,), dtype=int32, numpy=\n",
              "array([ 1,  2,  3,  4,  5,  6,  7,  8,  9, 10, 11, 12, 13, 14, 15, 16, 17,\n",
              "       18, 19, 20, 21, 22, 23, 24], dtype=int32)>"
            ]
          },
          "metadata": {},
          "execution_count": 82
        }
      ]
    },
    {
      "cell_type": "code",
      "source": [
        "# 만들 때 Shape을 줄 수 있다.\n",
        "tensor_A = tf.constant(numpy_A, shape=(2, 3, 4))\n",
        "tensor_A"
      ],
      "metadata": {
        "colab": {
          "base_uri": "https://localhost:8080/"
        },
        "id": "MDnmdvAwSvJQ",
        "outputId": "36b449d0-42c5-4122-f62d-4fc3408c5a3e"
      },
      "execution_count": 86,
      "outputs": [
        {
          "output_type": "execute_result",
          "data": {
            "text/plain": [
              "<tf.Tensor: shape=(2, 3, 4), dtype=int32, numpy=\n",
              "array([[[ 1,  2,  3,  4],\n",
              "        [ 5,  6,  7,  8],\n",
              "        [ 9, 10, 11, 12]],\n",
              "\n",
              "       [[13, 14, 15, 16],\n",
              "        [17, 18, 19, 20],\n",
              "        [21, 22, 23, 24]]], dtype=int32)>"
            ]
          },
          "metadata": {},
          "execution_count": 86
        }
      ]
    },
    {
      "cell_type": "code",
      "source": [
        "tensor_B = tf.constant(numpy_A)\n",
        "tensor_B"
      ],
      "metadata": {
        "colab": {
          "base_uri": "https://localhost:8080/"
        },
        "id": "OyakI1kJS_oP",
        "outputId": "33a71ee0-16d7-415c-d14d-8e33312efac7"
      },
      "execution_count": 87,
      "outputs": [
        {
          "output_type": "execute_result",
          "data": {
            "text/plain": [
              "<tf.Tensor: shape=(24,), dtype=int32, numpy=\n",
              "array([ 1,  2,  3,  4,  5,  6,  7,  8,  9, 10, 11, 12, 13, 14, 15, 16, 17,\n",
              "       18, 19, 20, 21, 22, 23, 24], dtype=int32)>"
            ]
          },
          "metadata": {},
          "execution_count": 87
        }
      ]
    },
    {
      "cell_type": "code",
      "source": [
        "# 당연하지만, tensor 생성시 Shape의 원소 개수는 원래 넘파이 배열에 있던 개수와 동일해야 생성 가능하다.\n",
        "\n",
        "print(tensor_A.ndim)\n",
        "print(tensor_B.ndim)"
      ],
      "metadata": {
        "colab": {
          "base_uri": "https://localhost:8080/"
        },
        "id": "-Kvj27u4TABv",
        "outputId": "f0991f20-4502-483c-f3d2-91ac154d8dcb"
      },
      "execution_count": 89,
      "outputs": [
        {
          "output_type": "stream",
          "name": "stdout",
          "text": [
            "3\n",
            "1\n"
          ]
        }
      ]
    },
    {
      "cell_type": "markdown",
      "source": [
        "# 20. tensor attributes 로 텐서 정보를 확인해보자."
      ],
      "metadata": {
        "id": "OJxwP5S0TNqf"
      }
    },
    {
      "cell_type": "code",
      "source": [],
      "metadata": {
        "id": "WvYiJsPnTM04"
      },
      "execution_count": null,
      "outputs": []
    },
    {
      "cell_type": "markdown",
      "source": [
        "vector.ndim"
      ],
      "metadata": {
        "id": "dgFw81kuUE9y"
      }
    }
  ]
}