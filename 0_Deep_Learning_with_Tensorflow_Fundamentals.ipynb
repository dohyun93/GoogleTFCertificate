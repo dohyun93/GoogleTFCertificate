{
  "nbformat": 4,
  "nbformat_minor": 0,
  "metadata": {
    "colab": {
      "provenance": [],
      "collapsed_sections": [],
      "authorship_tag": "ABX9TyOOi6HvU5xpAwVbg34pKnCf",
      "include_colab_link": true
    },
    "kernelspec": {
      "name": "python3",
      "display_name": "Python 3"
    },
    "language_info": {
      "name": "python"
    }
  },
  "cells": [
    {
      "cell_type": "markdown",
      "metadata": {
        "id": "view-in-github",
        "colab_type": "text"
      },
      "source": [
        "<a href=\"https://colab.research.google.com/github/dohyun93/GoogleTFCertificate/blob/main/0_Deep_Learning_with_Tensorflow_Fundamentals.ipynb\" target=\"_parent\"><img src=\"https://colab.research.google.com/assets/colab-badge.svg\" alt=\"Open In Colab\"/></a>"
      ]
    },
    {
      "cell_type": "markdown",
      "source": [
        "# What is Deep Learning?\n",
        "\n",
        "딥 러닝은 데이터를 숫자로 변환하고, 이 숫자에서 패턴을 찾아내는 것이다.\n",
        "입력과 규칙이 주어지면 결과를 만들어내는 기존 프로그래밍은\n",
        "입력과 이상적인 결과를 주어졌을 때 그 결과를 만들어내는 규칙을 학습한\n",
        "\n",
        "# Why use Deep learning?\n",
        "\"매우 복잡한 규칙\"은 프로그래밍 하기 매우 어렵다.\n",
        "딥러닝 모델은 이런 복잡한 규칙을 학습할 수 있다.\n",
        "\n",
        "딥러닝이 적용되면 좋은 분야.\n",
        "1. Rule 들이 매우 많은 문제\n",
        "2. 지속적으로 변화하는 환경에 놓인 문제\n",
        "3. 대량의 데이터에서 통찰을 얻어야 하는 문제\n",
        "\n",
        "# 머신러닝 Vs 딥러닝\n",
        "머신러닝은 정형 데이터의 학습(csv)에 특화되어 있고, 딥러닝은 음성, 텍스트, 이미지 같은 비정형 데이터의 학습에 특화되어 있다."
      ],
      "metadata": {
        "id": "RvKoxIzAGf1u"
      }
    },
    {
      "cell_type": "markdown",
      "source": [
        "#뉴럴 네트워크란 무엇일까?\n",
        "\n",
        "뉴럴 네트워크는 뉴런으로 구성된 네트워크 이다.\n",
        "\n",
        "1. (입력) 그림, 텍스트, 음성 을 수치화 한다. (Numerical encoding) -> Tensor라는 형태로 변환.\n",
        "2. (과정) 인공신경망(뉴럴네트워크)으로 Weights/Features/Pattern/Representation 학습\n",
        "3. (출력) 학습한 Representation 으로 입력에 대해 사람이 이해할 수 있는 high-level의 결과물 변환.\n",
        "\n",
        "인공신경망은 크게 아래 세 가지 층으로 구성된다.\n",
        "(1) Input layer : 데이터가 여기로 들어간다. (뉴런=유닛)\n",
        "(2) Hidden layer : 데이터로부터 패턴을 학습하는 층\n",
        "(3) Output layer : 학습된 representation 을 반환하거나, 확률 예측, 회귀 예측값을 리턴한다.\n",
        "\n",
        "학습의 대상인 패턴/representation/weights 등은 다른 언어로도 표현될 수 있다.\n",
        "\n",
        "# 학습의 종류\n",
        "\n",
        "Supervised learning : 라벨이 되어있는 데이터들만 있을 때 학습\n",
        "\n",
        "Semi-supervised learning : 일부만 라벨이 있는 데이터에 대한 학습\n",
        "\n",
        "Unsupervised learning : 비지도 학습으로, 라벨이 없는 데이터에 대한 학습\n",
        "\n",
        "Transfer learning : pattern 을 학습 한 후, 그 학습한 결과를 활용해서 다른 문제에 적용하는 학습.\n",
        "\n",
        "이 강좌에서는 supervised learning, transfer learning 에 대해 주로 학습한다.\n"
      ],
      "metadata": {
        "id": "z7GO7xmfENhB"
      }
    },
    {
      "cell_type": "markdown",
      "source": [],
      "metadata": {
        "id": "avoNTY-uGgGN"
      }
    },
    {
      "cell_type": "code",
      "execution_count": null,
      "metadata": {
        "id": "W_oxtyrcBVg_"
      },
      "outputs": [],
      "source": []
    }
  ]
}