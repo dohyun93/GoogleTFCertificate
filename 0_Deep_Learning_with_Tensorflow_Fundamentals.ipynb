{
  "nbformat": 4,
  "nbformat_minor": 0,
  "metadata": {
    "colab": {
      "provenance": [],
      "collapsed_sections": [],
      "authorship_tag": "ABX9TyNcQVwgjIpwyFdM9OodBhIe",
      "include_colab_link": true
    },
    "kernelspec": {
      "name": "python3",
      "display_name": "Python 3"
    },
    "language_info": {
      "name": "python"
    }
  },
  "cells": [
    {
      "cell_type": "markdown",
      "metadata": {
        "id": "view-in-github",
        "colab_type": "text"
      },
      "source": [
        "<a href=\"https://colab.research.google.com/github/dohyun93/GoogleTFCertificate/blob/main/0_Deep_Learning_with_Tensorflow_Fundamentals.ipynb\" target=\"_parent\"><img src=\"https://colab.research.google.com/assets/colab-badge.svg\" alt=\"Open In Colab\"/></a>"
      ]
    },
    {
      "cell_type": "markdown",
      "source": [
        "# What is Deep Learning?\n",
        "\n",
        "딥 러닝은 데이터를 숫자로 변환하고, 이 숫자에서 패턴을 찾아내는 것이다.\n",
        "입력과 규칙이 주어지면 결과를 만들어내는 기존 프로그래밍은\n",
        "입력과 이상적인 결과를 주어졌을 때 그 결과를 만들어내는 규칙을 학습한\n",
        "\n",
        "# Why use Deep learning?\n",
        "\"매우 복잡한 규칙\"은 프로그래밍 하기 매우 어렵다.\n",
        "딥러닝 모델은 이런 복잡한 규칙을 학습할 수 있다.\n",
        "\n",
        "딥러닝이 적용되면 좋은 분야.\n",
        "1. Rule 들이 매우 많은 문제\n",
        "2. 지속적으로 변화하는 환경에 놓인 문제\n",
        "3. 대량의 데이터에서 통찰을 얻어야 하는 문제\n",
        "\n",
        "# 머신러닝 Vs 딥러닝\n",
        "머신러닝은 정형 데이터의 학습(csv)에 특화되어 있고, 딥러닝은 음성, 텍스트, 이미지 같은 비정형 데이터의 학습에 특화되어 있다."
      ],
      "metadata": {
        "id": "RvKoxIzAGf1u"
      }
    },
    {
      "cell_type": "markdown",
      "source": [
        "#뉴럴 네트워크란 무엇일까?\n",
        "\n",
        "뉴럴 네트워크는 뉴런으로 구성된 네트워크 이다.\n",
        "\n",
        "1. (입력) 그림, 텍스트, 음성 을 수치화 한다. (Numerical encoding) -> Tensor라는 형태로 변환.\n",
        "2. (과정) 인공신경망(뉴럴네트워크)으로 Weights/Features/Pattern/Representation 학습\n",
        "3. (출력) 학습한 Representation 으로 입력에 대해 사람이 이해할 수 있는 high-level의 결과물 변환.\n",
        "\n",
        "인공신경망은 크게 아래 세 가지 층으로 구성된다.\n",
        "(1) Input layer : 데이터가 여기로 들어간다. (뉴런=유닛)\n",
        "(2) Hidden layer : 데이터로부터 패턴을 학습하는 층\n",
        "(3) Output layer : 학습된 representation 을 반환하거나, 확률 예측, 회귀 예측값을 리턴한다.\n",
        "\n",
        "학습의 대상인 패턴/representation/weights 등은 다른 언어로도 표현될 수 있다.\n",
        "\n",
        "# 학습의 종류\n",
        "\n",
        "Supervised learning : 라벨이 되어있는 데이터들만 있을 때 학습\n",
        "\n",
        "Semi-supervised learning : 일부만 라벨이 있는 데이터에 대한 학습\n",
        "\n",
        "Unsupervised learning : 비지도 학습으로, 라벨이 없는 데이터에 대한 학습\n",
        "\n",
        "Transfer learning : pattern 을 학습 한 후, 그 학습한 결과를 활용해서 다른 문제에 적용하는 학습.\n",
        "\n",
        "이 강좌에서는 supervised learning, transfer learning 에 대해 주로 학습한다.\n"
      ],
      "metadata": {
        "id": "z7GO7xmfENhB"
      }
    },
    {
      "cell_type": "markdown",
      "source": [
        "# 딥러닝이 이미 사용되고 있는 건 뭐가있을까?\n",
        "\n",
        "딥러닝을 적용할 수 있는 분야는 숫자로 변환시킬 수 있는 것이면 모두 다 해당된다.\n",
        "\n",
        "딥러닝의 유스케이스 몇 개.\n",
        "1. 추천\n",
        "2. 번역 (Seq2seq. 영어를 스페인어로 번역)\n",
        "3. 음성인식 (seq2seq. 음성 데이터 (시퀀스)를 어떤 문장인지 분석.)\n",
        "4. 컴퓨터비전 (classification/regression. 이 사진은 차다.)\n",
        "5. 자연어처리 (classification/regression. 이 메일은 스팸메일일 확률이 몇이다.)\n",
        "\n",
        "다시 한 번 강조하지만, 딥 러닝이 적용될 수 있는 분야는 수치로 변환 가능한 모든 문제들이다."
      ],
      "metadata": {
        "id": "avoNTY-uGgGN"
      }
    },
    {
      "cell_type": "markdown",
      "source": [
        "# 텐서플로우란 무엇이며, 왜 사용하는가?\n",
        "\n",
        "딥 러닝 모델 = 딥 러닝 아키텍처\n",
        "\n",
        "\n",
        "텐서플로우란? 텐서플로우는 이런 딥 러닝 모델을 개발하는데 사용하는 E2E 머신러닝 플랫폼이다.\n",
        "\n",
        "텐서플로우를 이용해서 GPU/TPU 상에서 동작하는 파이썬같은 언어로 빠르게 딥 러닝 코드를 개발할 수 있다.\n",
        "\n",
        "먼저 빌드된 딥 러닝 모델들을 사용할 수 있다.\n",
        "\n",
        "데이터 전처리부터 데이터 모델링, 어플리케이션에 모델 배포까지 다 할 수 있다.\n",
        "\n",
        "원래 구글 인하우스를 위해 설계되고 개발되었으나 오픈소스화 되었다.\n",
        "\n",
        "\n",
        "* 왜 텐서플로우인가?\n",
        "\n",
        "1. 모델 빌딩이 쉽다.\n",
        "2. 신뢰성있는 ML 개발된 것이 많다.\n",
        "3. 연구를 위해 다양한 간단하고 유연한 구조를 개발해볼 수 있다.\n",
        "\n",
        "코랩, 케라스, 텐서플로우 같은게 있으면 단 하루만에 아무 투자없이 2014년 기준 한 개 팀이 2천만원 짜리 장비로 3달 걸려 해결할 문제를 풀 수 있다.\n",
        "\n",
        "* GPU, TPU 란 무엇인가?\n",
        "\n",
        "GPU : Graphics processing Unit\n",
        "\n",
        "TPU : Tensor Processing Unit\n",
        "\n",
        "\n",
        "\n"
      ],
      "metadata": {
        "id": "0aimd34UMIeh"
      }
    },
    {
      "cell_type": "markdown",
      "source": [
        "# 텐서란 무엇인가?\n",
        "\n",
        "* 입력과 출력으로 수치화 했던 행렬이 바로 텐서이다. 수치화 되는 대상 모두 텐서라고 봐도 무방하다.\n",
        "\n",
        "* 딥 러닝에서 데이터, 학습된 가중치 등 모두 수치화하는데, 이를 텐서라고 부른다.\n"
      ],
      "metadata": {
        "id": "_0vt11r2QzkJ"
      }
    },
    {
      "cell_type": "markdown",
      "source": [
        "# 이 강좌를 통해 우리는 무엇을 다룰것인가?\n",
        "\n",
        "* 텐서플로우 기초\n",
        "\n",
        "* 데이터 전처리 (텐서로의 변환)\n",
        "\n",
        "* 먼저 학습된 딥러닝 모델을 빌드하고 사용하기\n",
        "\n",
        "* 데이터를 모델에 넣고 학습시키기 (패턴학습)\n",
        "\n",
        "* 모델로 예측하기 (패턴사용)\n",
        "\n",
        "* 모델 예측결과 평가\n",
        "\n",
        "* 모델 저장과 로딩\n",
        "\n",
        "* 모델입장에서 처음보는 커스텀 데이터를 활용해 학습된 모델에 넣고 예측해보기\n",
        "\n",
        "1. 데이터를 텐서로 변환\n",
        "2. pretrained 모델을 빌드하거나 선택한다.\n",
        "3. 데이터로 모델 학습하고 예측을 만든다.\n",
        "4. 모델을 평가한다.\n",
        "5. 실험을 통해 모델을 개선한다.\n",
        "6. 모델을 저장하고 다시 불러온다."
      ],
      "metadata": {
        "id": "VOZVF0qyRvuO"
      }
    },
    {
      "cell_type": "markdown",
      "source": [
        "# 이 강좌를 어떻게 활용할 것인가?\n",
        "\n",
        "1. 많은 코드를 직접 작성해라. 실수도 따라해라. \n",
        "\n",
        "> 모토 #1. 잘 모르겠으면, 일단 코드 실행시켜라\n",
        "\n",
        "2. 탐험하고, 실험해라.\n",
        "\n",
        "> 모토 #2. 실험하라 x 3\n",
        "\n",
        "> 모토 #3. 시각화 해라 X 3 (내가 이해할 수 있는 방법으로 재구성 해라)\n",
        "\n",
        "3. 질문해라. (멍청한 질문이라도)\n",
        "\n",
        "4. 솔루션을 보기 전에 직접 코드를 짜보는 연습을 해보라.\n",
        "\n",
        "> 모토 #4. 이 코스는 모든걸 커버하지 않기 때문에, 좀 더 공부하고 싶다면 따로 보자.\n",
        "\n",
        "5. 한 것을 공유하자. 타인에게 내가 개발한 것을 설명하라."
      ],
      "metadata": {
        "id": "WyAM4C1CSwyC"
      }
    },
    {
      "cell_type": "code",
      "source": [
        "# 15. tf.constant() 로 첫 텐서 만들어보기.\n",
        "\n",
        "# 다루는 주제\n",
        "# Tensor 에 대한 소개\n",
        "# 텐서로부터 정보 읽기\n",
        "# 텐서 조작하기\n",
        "# 텐서와 넘파이\n",
        "# tf.function 사용해서 파이썬 함수보다 더 빠르게 처리하기.\n",
        "# 텐서플로우로 GPU 사용하기.\n",
        "\n",
        "import tensorflow as tf\n",
        "\n",
        "print(tf.__version__)\n"
      ],
      "metadata": {
        "colab": {
          "base_uri": "https://localhost:8080/"
        },
        "id": "C67ghckTUW_U",
        "outputId": "8299e7cb-6ee1-4d5c-ba9f-6d12d6d9b3aa"
      },
      "execution_count": 1,
      "outputs": [
        {
          "output_type": "stream",
          "name": "stdout",
          "text": [
            "2.8.2\n"
          ]
        }
      ]
    },
    {
      "cell_type": "code",
      "source": [
        "# Create tensors with tf.constant()\n",
        "\n",
        "scalar = tf.constant(7)\n",
        "\n",
        "print(scalar)\n",
        "\n",
        "# check the number of dimensions of a tensor (ndim stands for number of dimensions)\n",
        "scalar.ndim "
      ],
      "metadata": {
        "colab": {
          "base_uri": "https://localhost:8080/"
        },
        "id": "Rc6I5Q5lXQ_k",
        "outputId": "a150b1f1-50fe-4d03-bea3-31267e99b522"
      },
      "execution_count": 7,
      "outputs": [
        {
          "output_type": "stream",
          "name": "stdout",
          "text": [
            "tf.Tensor(7, shape=(), dtype=int32)\n"
          ]
        },
        {
          "output_type": "execute_result",
          "data": {
            "text/plain": [
              "0"
            ]
          },
          "metadata": {},
          "execution_count": 7
        }
      ]
    },
    {
      "cell_type": "code",
      "source": [
        "# Create a vector\n",
        "vector = tf.constant([10, 10])\n",
        "print(vector)\n",
        "print(vector.ndim)\n"
      ],
      "metadata": {
        "colab": {
          "base_uri": "https://localhost:8080/"
        },
        "id": "uXQbAGB6X5hd",
        "outputId": "b72513ce-a8b1-4ba9-e342-c583a7b194a4"
      },
      "execution_count": 9,
      "outputs": [
        {
          "output_type": "stream",
          "name": "stdout",
          "text": [
            "tf.Tensor([10 10], shape=(2,), dtype=int32)\n",
            "1\n"
          ]
        }
      ]
    },
    {
      "cell_type": "code",
      "source": [
        "# Create a matrix\n",
        "matrix = tf.constant([[10, 7], \n",
        "                      [2, 30]])\n",
        "print(matrix)\n",
        "print(matrix.ndim)"
      ],
      "metadata": {
        "colab": {
          "base_uri": "https://localhost:8080/"
        },
        "id": "DjH3kPRkaBtI",
        "outputId": "bf95445f-ed75-4fac-843f-c68e8b7857a1"
      },
      "execution_count": 10,
      "outputs": [
        {
          "output_type": "stream",
          "name": "stdout",
          "text": [
            "tf.Tensor(\n",
            "[[10  7]\n",
            " [ 2 30]], shape=(2, 2), dtype=int32)\n",
            "2\n"
          ]
        }
      ]
    },
    {
      "cell_type": "code",
      "source": [
        "# Create a matrix for specific datatype.\n",
        "\n",
        "another_matrix = tf.constant([ [10., 30.],\n",
        "                               [3., 2.],\n",
        "                               [8., 9.]], dtype=tf.float16) # Create a tf.float16 type of constant tensor.\n",
        "print(another_matrix)\n",
        "print(another_matrix.ndim)"
      ],
      "metadata": {
        "colab": {
          "base_uri": "https://localhost:8080/"
        },
        "id": "JvKb-iQUaMEy",
        "outputId": "41d2f4d5-2b6b-4d01-92d5-394805733de9"
      },
      "execution_count": 13,
      "outputs": [
        {
          "output_type": "stream",
          "name": "stdout",
          "text": [
            "tf.Tensor(\n",
            "[[10. 30.]\n",
            " [ 3.  2.]\n",
            " [ 8.  9.]], shape=(3, 2), dtype=float16)\n",
            "2\n"
          ]
        }
      ]
    },
    {
      "cell_type": "code",
      "source": [
        "# What's the number of the dimension of the another_matrix?\n",
        "# It is 2.\n",
        "\n",
        "# So, Let's create a tensor.\n",
        "tensor = tf.constant([ [[1, 2, 3],\n",
        "                        [4, 5, 6]],\n",
        "                       [[7, 8, 9],\n",
        "                        [10, 11, 12]],\n",
        "                       [[13, 14, 15],\n",
        "                        [16, 17, 18]]])\n",
        "\n",
        "print(tensor)\n",
        "print(tensor.ndim)\n"
      ],
      "metadata": {
        "colab": {
          "base_uri": "https://localhost:8080/"
        },
        "id": "SoVuw1cwauGv",
        "outputId": "48c0575f-9f35-4a22-f20c-8b9f68b2c809"
      },
      "execution_count": 14,
      "outputs": [
        {
          "output_type": "stream",
          "name": "stdout",
          "text": [
            "tf.Tensor(\n",
            "[[[ 1  2  3]\n",
            "  [ 4  5  6]]\n",
            "\n",
            " [[ 7  8  9]\n",
            "  [10 11 12]]\n",
            "\n",
            " [[13 14 15]\n",
            "  [16 17 18]]], shape=(3, 2, 3), dtype=int32)\n",
            "3\n"
          ]
        }
      ]
    },
    {
      "cell_type": "code",
      "source": [
        "# So, what we've created so far:\n",
        "\n",
        "# 1. scalar 은 한 개의 숫자다. (ndim = 0)\n",
        "# 2. vector 은 방향이 있는 숫자다. (e.g., 바람의 속력과 풍향)\n",
        "# 3. matrix 는 2-dimensional 숫자 배열이다.\n",
        "# 4. tensor 는 n-dimensional 숫자 배열이다. (n 은 어떤 숫자던 가능하며, 0이면 스칼라, 1이면 벡터, 2면 행렬이다.)"
      ],
      "metadata": {
        "id": "tqu9z0PTbqGC"
      },
      "execution_count": 15,
      "outputs": []
    },
    {
      "cell_type": "markdown",
      "source": [
        "vector.ndim"
      ],
      "metadata": {
        "id": "dgFw81kuUE9y"
      }
    }
  ]
}